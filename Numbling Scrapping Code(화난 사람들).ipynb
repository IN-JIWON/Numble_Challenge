{
 "cells": [
  {
   "cell_type": "markdown",
   "id": "93050208",
   "metadata": {},
   "source": [
    "## 1. 라이브러리 설치"
   ]
  },
  {
   "cell_type": "code",
   "execution_count": 20,
   "id": "00b74f03",
   "metadata": {},
   "outputs": [],
   "source": [
    "from selenium import webdriver\n",
    "from selenium.webdriver.chrome.service import Service as ChromeService\n",
    "from selenium.webdriver.chrome.options import Options\n",
    "from webdriver_manager.chrome import ChromeDriverManager\n",
    "from selenium.webdriver.common.by import By\n",
    "from bs4 import BeautifulSoup\n",
    "import pandas as pd\n",
    "from tqdm import tqdm\n",
    "import time, random, datetime"
   ]
  },
  {
   "cell_type": "code",
   "execution_count": 21,
   "id": "d8ad893c",
   "metadata": {},
   "outputs": [],
   "source": [
    "# 한글 폰트 사용을 위해서 세팅\n",
    "from matplotlib import font_manager, rc\n",
    "font_path = \"C:/Windows/Fonts/NGULIM.TTF\"\n",
    "font = font_manager.FontProperties(fname=font_path).get_name()\n",
    "rc('font', family=font)"
   ]
  },
  {
   "cell_type": "code",
   "execution_count": null,
   "id": "91482d65",
   "metadata": {},
   "outputs": [],
   "source": []
  },
  {
   "cell_type": "markdown",
   "id": "834c0f76",
   "metadata": {},
   "source": [
    "## 2. 스크래핑"
   ]
  },
  {
   "cell_type": "code",
   "execution_count": 22,
   "id": "98def1cd",
   "metadata": {
    "scrolled": true
   },
   "outputs": [
    {
     "name": "stderr",
     "output_type": "stream",
     "text": [
      "[WDM] - Downloading: 100%|█████████████████████████████████████████████████████████| 6.79M/6.79M [00:09<00:00, 738kB/s]\n",
      "100%|████████████████████████████████████████████████████████████████████████████████| 142/142 [03:45<00:00,  1.59s/it]"
     ]
    },
    {
     "name": "stdout",
     "output_type": "stream",
     "text": [
      "30\n"
     ]
    },
    {
     "name": "stderr",
     "output_type": "stream",
     "text": [
      "\n"
     ]
    }
   ],
   "source": [
    "def chromeWebdriver():\n",
    "    chrome_service = ChromeService(executable_path=ChromeDriverManager().install())\n",
    "    options = Options()\n",
    "    options.add_experimental_option('detach', True)\n",
    "    options.add_experimental_option('excludeSwitches', ['enable-logging'])\n",
    "    user_agent = 'Mozilla/5.0 (Windows NT 10.0; Win64; x64) AppleWebKit/537.36 (KHTML, like Gecko) Chrome/100.0.4896.75 Safari/537.36'\n",
    "    options.add_argument(f'user-agent={user_agent}')\n",
    "\n",
    "    driver = webdriver.Chrome(service=chrome_service, options=options)\n",
    "    return driver\n",
    "\n",
    "tmp_list=[]\n",
    "driver=chromeWebdriver()\n",
    "error_cnt=0\n",
    "\n",
    "#진행 중인 사건 페이지 스크래핑 진행\n",
    "for i in tqdm(range(0, 142)):\n",
    "    url='https://prj.angrypeople.co.kr/progress/v/'+str(i)\n",
    "    try:\n",
    "        driver.get(url)\n",
    "        html=driver.page_source\n",
    "        soup=BeautifulSoup(html, 'html.parser')\n",
    "\n",
    "        # 프로젝트 이름, 날짜, 변호사이름\n",
    "        project_name=soup.select('div.title.mgt-2')[0].text.strip()\n",
    "        project_date=soup.select('div.date.mgt-2')[0].text.strip()\n",
    "        lawyer_name=soup.select('div.inner-name')[0].text.strip()\n",
    "        tmp_list.append([project_name, project_date, lawyer_name])\n",
    "        time.sleep(0.5)\n",
    "    except: \n",
    "        error_cnt=error_cnt+1\n",
    "df=pd.DataFrame(tmp_list)\n",
    "df.columns=['프로젝트명','날짜','변호사명']\n",
    "print(error_cnt)"
   ]
  },
  {
   "cell_type": "code",
   "execution_count": null,
   "id": "1b807526",
   "metadata": {},
   "outputs": [],
   "source": []
  },
  {
   "cell_type": "markdown",
   "id": "8a842a4d",
   "metadata": {},
   "source": [
    "## 3. 데이터 확인하기"
   ]
  },
  {
   "cell_type": "code",
   "execution_count": 23,
   "id": "bd8fb3ad",
   "metadata": {},
   "outputs": [
    {
     "data": {
      "text/html": [
       "<div>\n",
       "<style scoped>\n",
       "    .dataframe tbody tr th:only-of-type {\n",
       "        vertical-align: middle;\n",
       "    }\n",
       "\n",
       "    .dataframe tbody tr th {\n",
       "        vertical-align: top;\n",
       "    }\n",
       "\n",
       "    .dataframe thead th {\n",
       "        text-align: right;\n",
       "    }\n",
       "</style>\n",
       "<table border=\"1\" class=\"dataframe\">\n",
       "  <thead>\n",
       "    <tr style=\"text-align: right;\">\n",
       "      <th></th>\n",
       "      <th>프로젝트명</th>\n",
       "      <th>날짜</th>\n",
       "      <th>변호사명</th>\n",
       "    </tr>\n",
       "  </thead>\n",
       "  <tbody>\n",
       "    <tr>\n",
       "      <th>0</th>\n",
       "      <td>대진침대 라돈 검출</td>\n",
       "      <td>2018년 07월 30일            ~\\n            2018년 ...</td>\n",
       "      <td>황세정</td>\n",
       "    </tr>\n",
       "    <tr>\n",
       "      <th>1</th>\n",
       "      <td>김치냉장고 허위광고</td>\n",
       "      <td>2018년 07월 16일            ~\\n            2018년 ...</td>\n",
       "      <td>박희정</td>\n",
       "    </tr>\n",
       "    <tr>\n",
       "      <th>2</th>\n",
       "      <td>까사미아 라돈 검출</td>\n",
       "      <td>2018년 08월 03일            ~\\n            2018년 ...</td>\n",
       "      <td>황세정</td>\n",
       "    </tr>\n",
       "    <tr>\n",
       "      <th>3</th>\n",
       "      <td>여기어때 \\n개인정보 유출</td>\n",
       "      <td>~</td>\n",
       "      <td>윤제선</td>\n",
       "    </tr>\n",
       "    <tr>\n",
       "      <th>4</th>\n",
       "      <td>BMW 집단소송</td>\n",
       "      <td>2019년 01월 07일            ~\\n            2019년 ...</td>\n",
       "      <td>구본승</td>\n",
       "    </tr>\n",
       "    <tr>\n",
       "      <th>...</th>\n",
       "      <td>...</td>\n",
       "      <td>...</td>\n",
       "      <td>...</td>\n",
       "    </tr>\n",
       "    <tr>\n",
       "      <th>107</th>\n",
       "      <td>EBS 머니톡 개인정보 유용 집단소송</td>\n",
       "      <td>2022년 10월 13일            ~\\n            2022년 ...</td>\n",
       "      <td>서치원</td>\n",
       "    </tr>\n",
       "    <tr>\n",
       "      <th>108</th>\n",
       "      <td>카카오 중단으로 인한 피해자 모집</td>\n",
       "      <td>2022년 10월 17일            ~</td>\n",
       "      <td>하종선</td>\n",
       "    </tr>\n",
       "    <tr>\n",
       "      <th>109</th>\n",
       "      <td>적반하장도 유분수! 비판 댓글 합의금 소송 대응</td>\n",
       "      <td>2022년 10월 17일            ~</td>\n",
       "      <td>박지영</td>\n",
       "    </tr>\n",
       "    <tr>\n",
       "      <th>110</th>\n",
       "      <td>장애아동 학대 교사 엄벌탄원</td>\n",
       "      <td>2022년 10월 26일            ~</td>\n",
       "      <td>신수경</td>\n",
       "    </tr>\n",
       "    <tr>\n",
       "      <th>111</th>\n",
       "      <td>교원 도요새 프리패스 해지요청 및 미납대금청구 소송대응</td>\n",
       "      <td>2022년 11월 18일            ~</td>\n",
       "      <td>김승유</td>\n",
       "    </tr>\n",
       "  </tbody>\n",
       "</table>\n",
       "<p>112 rows × 3 columns</p>\n",
       "</div>"
      ],
      "text/plain": [
       "                              프로젝트명  \\\n",
       "0                        대진침대 라돈 검출   \n",
       "1                        김치냉장고 허위광고   \n",
       "2                        까사미아 라돈 검출   \n",
       "3                    여기어때 \\n개인정보 유출   \n",
       "4                          BMW 집단소송   \n",
       "..                              ...   \n",
       "107            EBS 머니톡 개인정보 유용 집단소송   \n",
       "108              카카오 중단으로 인한 피해자 모집   \n",
       "109      적반하장도 유분수! 비판 댓글 합의금 소송 대응   \n",
       "110                 장애아동 학대 교사 엄벌탄원   \n",
       "111  교원 도요새 프리패스 해지요청 및 미납대금청구 소송대응   \n",
       "\n",
       "                                                    날짜 변호사명  \n",
       "0    2018년 07월 30일            ~\\n            2018년 ...  황세정  \n",
       "1    2018년 07월 16일            ~\\n            2018년 ...  박희정  \n",
       "2    2018년 08월 03일            ~\\n            2018년 ...  황세정  \n",
       "3                                                    ~  윤제선  \n",
       "4    2019년 01월 07일            ~\\n            2019년 ...  구본승  \n",
       "..                                                 ...  ...  \n",
       "107  2022년 10월 13일            ~\\n            2022년 ...  서치원  \n",
       "108                         2022년 10월 17일            ~  하종선  \n",
       "109                         2022년 10월 17일            ~  박지영  \n",
       "110                         2022년 10월 26일            ~  신수경  \n",
       "111                         2022년 11월 18일            ~  김승유  \n",
       "\n",
       "[112 rows x 3 columns]"
      ]
     },
     "execution_count": 23,
     "metadata": {},
     "output_type": "execute_result"
    }
   ],
   "source": [
    "df"
   ]
  },
  {
   "cell_type": "code",
   "execution_count": 25,
   "id": "6913b566",
   "metadata": {},
   "outputs": [],
   "source": [
    "df.to_csv('변호사명.csv', index=False)"
   ]
  },
  {
   "cell_type": "code",
   "execution_count": null,
   "id": "a05d9cb3",
   "metadata": {},
   "outputs": [],
   "source": []
  },
  {
   "cell_type": "markdown",
   "id": "c82d3325",
   "metadata": {},
   "source": [
    "## 4. 데이터 분석하기"
   ]
  },
  {
   "cell_type": "code",
   "execution_count": 24,
   "id": "6ddde118",
   "metadata": {},
   "outputs": [
    {
     "data": {
      "text/plain": [
       "48"
      ]
     },
     "execution_count": 24,
     "metadata": {},
     "output_type": "execute_result"
    }
   ],
   "source": [
    "df['변호사명'].nunique()"
   ]
  },
  {
   "cell_type": "code",
   "execution_count": null,
   "id": "5edf21a0",
   "metadata": {},
   "outputs": [],
   "source": []
  },
  {
   "cell_type": "code",
   "execution_count": 26,
   "id": "04ffd588",
   "metadata": {},
   "outputs": [],
   "source": [
    "df=pd.read_csv('변호사명.csv')"
   ]
  },
  {
   "cell_type": "code",
   "execution_count": 27,
   "id": "3bdf9203",
   "metadata": {},
   "outputs": [],
   "source": [
    "tmp=df.groupby('변호사명').count()[['프로젝트명']]"
   ]
  },
  {
   "cell_type": "code",
   "execution_count": 28,
   "id": "221efe2c",
   "metadata": {},
   "outputs": [],
   "source": [
    "tmp.rename(columns={'프로젝트명':'프로젝트 수'}, inplace=True)"
   ]
  },
  {
   "cell_type": "code",
   "execution_count": 29,
   "id": "81f6f582",
   "metadata": {},
   "outputs": [
    {
     "data": {
      "text/plain": [
       "<AxesSubplot:ylabel='Frequency'>"
      ]
     },
     "execution_count": 29,
     "metadata": {},
     "output_type": "execute_result"
    },
    {
     "data": {
      "image/png": "[encoded data removed]",
      "text/plain": [
       "<Figure size 432x288 with 1 Axes>"
      ]
     },
     "metadata": {
      "needs_background": "light"
     },
     "output_type": "display_data"
    }
   ],
   "source": [
    "tmp.plot(kind='hist')"
   ]
  },
  {
   "cell_type": "markdown",
   "id": "27243ea9",
   "metadata": {},
   "source": [
    "+ 프로젝트를 한 개만 낸 변호사 수가 많다.\n",
    "+ 그 이상은 2, 3개를 낸 변호사 수가 많다."
   ]
  },
  {
   "cell_type": "code",
   "execution_count": 30,
   "id": "6a47c2eb",
   "metadata": {},
   "outputs": [
    {
     "data": {
      "text/plain": [
       "48"
      ]
     },
     "execution_count": 30,
     "metadata": {},
     "output_type": "execute_result"
    }
   ],
   "source": [
    "len(tmp)"
   ]
  },
  {
   "cell_type": "code",
   "execution_count": 31,
   "id": "494f0973",
   "metadata": {},
   "outputs": [
    {
     "data": {
      "text/plain": [
       "21"
      ]
     },
     "execution_count": 31,
     "metadata": {},
     "output_type": "execute_result"
    }
   ],
   "source": [
    "# 프로젝트 2개 이상 개설한 변호사 수\n",
    "len(tmp[tmp['프로젝트 수']>1])"
   ]
  },
  {
   "cell_type": "code",
   "execution_count": 33,
   "id": "d66cdbf9",
   "metadata": {},
   "outputs": [
    {
     "data": {
      "text/plain": [
       "8"
      ]
     },
     "execution_count": 33,
     "metadata": {},
     "output_type": "execute_result"
    }
   ],
   "source": [
    "# 프로젝트 4개 이상 개설한 변호사 수\n",
    "len(tmp[tmp['프로젝트 수']>=4])"
   ]
  },
  {
   "cell_type": "code",
   "execution_count": 36,
   "id": "61605d35",
   "metadata": {},
   "outputs": [],
   "source": [
    "#reset_index 메서드: 기본값으로 인덱스 값들을 DataFrame의 열로 전송하며, 새로운 단순한 정수 인덱스를 세팅한다.\n",
    "# 즉, set_index()의 기능을 역으로 수행\n",
    "tmp.reset_index(inplace=True)"
   ]
  },
  {
   "cell_type": "code",
   "execution_count": 37,
   "id": "7d83c1e0",
   "metadata": {},
   "outputs": [],
   "source": [
    "tmpmtmp=tmp.groupby(['프로젝트 수']).count()"
   ]
  },
  {
   "cell_type": "code",
   "execution_count": 38,
   "id": "bd0d606e",
   "metadata": {},
   "outputs": [
    {
     "data": {
      "text/html": [
       "<div>\n",
       "<style scoped>\n",
       "    .dataframe tbody tr th:only-of-type {\n",
       "        vertical-align: middle;\n",
       "    }\n",
       "\n",
       "    .dataframe tbody tr th {\n",
       "        vertical-align: top;\n",
       "    }\n",
       "\n",
       "    .dataframe thead th {\n",
       "        text-align: right;\n",
       "    }\n",
       "</style>\n",
       "<table border=\"1\" class=\"dataframe\">\n",
       "  <thead>\n",
       "    <tr style=\"text-align: right;\">\n",
       "      <th></th>\n",
       "      <th>index</th>\n",
       "      <th>변호사명</th>\n",
       "    </tr>\n",
       "    <tr>\n",
       "      <th>프로젝트 수</th>\n",
       "      <th></th>\n",
       "      <th></th>\n",
       "    </tr>\n",
       "  </thead>\n",
       "  <tbody>\n",
       "    <tr>\n",
       "      <th>1</th>\n",
       "      <td>27</td>\n",
       "      <td>27</td>\n",
       "    </tr>\n",
       "    <tr>\n",
       "      <th>2</th>\n",
       "      <td>9</td>\n",
       "      <td>9</td>\n",
       "    </tr>\n",
       "    <tr>\n",
       "      <th>3</th>\n",
       "      <td>4</td>\n",
       "      <td>4</td>\n",
       "    </tr>\n",
       "    <tr>\n",
       "      <th>4</th>\n",
       "      <td>1</td>\n",
       "      <td>1</td>\n",
       "    </tr>\n",
       "    <tr>\n",
       "      <th>5</th>\n",
       "      <td>2</td>\n",
       "      <td>2</td>\n",
       "    </tr>\n",
       "    <tr>\n",
       "      <th>7</th>\n",
       "      <td>1</td>\n",
       "      <td>1</td>\n",
       "    </tr>\n",
       "    <tr>\n",
       "      <th>8</th>\n",
       "      <td>2</td>\n",
       "      <td>2</td>\n",
       "    </tr>\n",
       "    <tr>\n",
       "      <th>9</th>\n",
       "      <td>2</td>\n",
       "      <td>2</td>\n",
       "    </tr>\n",
       "  </tbody>\n",
       "</table>\n",
       "</div>"
      ],
      "text/plain": [
       "        index  변호사명\n",
       "프로젝트 수             \n",
       "1          27    27\n",
       "2           9     9\n",
       "3           4     4\n",
       "4           1     1\n",
       "5           2     2\n",
       "7           1     1\n",
       "8           2     2\n",
       "9           2     2"
      ]
     },
     "execution_count": 38,
     "metadata": {},
     "output_type": "execute_result"
    }
   ],
   "source": [
    "tmpmtmp"
   ]
  },
  {
   "cell_type": "code",
   "execution_count": 39,
   "id": "d7e45c1d",
   "metadata": {},
   "outputs": [],
   "source": [
    "tmpmtmp.to_csv('프로젝트 수별 인원.csv', index=False)"
   ]
  }
 ],
 "metadata": {
  "kernelspec": {
   "display_name": "Python 3 (ipykernel)",
   "language": "python",
   "name": "python3"
  },
  "language_info": {
   "codemirror_mode": {
    "name": "ipython",
    "version": 3
   },
   "file_extension": ".py",
   "mimetype": "text/x-python",
   "name": "python",
   "nbconvert_exporter": "python",
   "pygments_lexer": "ipython3",
   "version": "3.9.12"
  }
 },
 "nbformat": 4,
 "nbformat_minor": 5
}
